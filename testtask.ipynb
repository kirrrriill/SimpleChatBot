{
 "cells": [
  {
   "cell_type": "code",
   "execution_count": 1,
   "metadata": {},
   "outputs": [
    {
     "name": "stdout",
     "output_type": "stream",
     "text": [
      "Requirement already satisfied: pandas in c:\\users\\baiko\\anaconda3\\lib\\site-packages (1.4.3)\n",
      "Requirement already satisfied: pytz>=2020.1 in c:\\users\\baiko\\anaconda3\\lib\\site-packages (from pandas) (2022.1)\n",
      "Requirement already satisfied: python-dateutil>=2.8.1 in c:\\users\\baiko\\anaconda3\\lib\\site-packages (from pandas) (2.8.2)\n",
      "Requirement already satisfied: numpy>=1.18.5 in c:\\users\\baiko\\anaconda3\\lib\\site-packages (from pandas) (1.22.3)\n",
      "Requirement already satisfied: six>=1.5 in c:\\users\\baiko\\anaconda3\\lib\\site-packages (from python-dateutil>=2.8.1->pandas) (1.16.0)\n"
     ]
    }
   ],
   "source": [
    "!pip3 install pandas"
   ]
  },
  {
   "cell_type": "code",
   "execution_count": 2,
   "metadata": {
    "colab": {
     "base_uri": "https://localhost:8080/"
    },
    "id": "qaYDpNhLn4zQ",
    "outputId": "534d6f81-3599-4242-e135-216a2c4ccfe1"
   },
   "outputs": [
    {
     "name": "stdout",
     "output_type": "stream",
     "text": [
      "                                       Категория жилья  Ставка\n",
      "0    Квартира в новостройке, базовая программа, мак...    12.2\n",
      "1    Квартира в новостройке, базовая программа, зар...    11.2\n",
      "2    Квартира в новостройке, базовая программа, стр...    11.2\n",
      "3    Квартира в новостройке, базовая программа, эле...    11.9\n",
      "4    Квартира в новостройке, базовая программа, зар...    10.2\n",
      "..                                                 ...     ...\n",
      "576  Взять наличные под залог жилья, зарплатная кар...    10.5\n",
      "577  Взять наличные под залог жилья, зарплатная кар...    11.2\n",
      "578  Взять наличные под залог жилья, зарплатная кар...    10.2\n",
      "579  Взять наличные под залог жилья, подтверждение ...    11.2\n",
      "580  Взять наличные под залог жилья, страхование жи...    11.7\n",
      "\n",
      "[581 rows x 2 columns]\n"
     ]
    }
   ],
   "source": [
    "import pandas\n",
    "\n",
    "tdata = pandas.read_csv('testdata.csv')\n",
    "\n",
    "print(tdata)"
   ]
  },
  {
   "cell_type": "code",
   "execution_count": 3,
   "metadata": {
    "colab": {
     "base_uri": "https://localhost:8080/"
    },
    "id": "VmYdGNcB3jGv",
    "outputId": "d489609a-c179-4512-917f-d5a669f471c4"
   },
   "outputs": [
    {
     "name": "stdout",
     "output_type": "stream",
     "text": [
      "Requirement already satisfied: pymystem3 in c:\\users\\baiko\\anaconda3\\lib\\site-packages (0.2.0)\n",
      "Requirement already satisfied: requests in c:\\users\\baiko\\anaconda3\\lib\\site-packages (from pymystem3) (2.28.1)\n",
      "Requirement already satisfied: idna<4,>=2.5 in c:\\users\\baiko\\anaconda3\\lib\\site-packages (from requests->pymystem3) (3.3)\n",
      "Requirement already satisfied: charset-normalizer<3,>=2 in c:\\users\\baiko\\anaconda3\\lib\\site-packages (from requests->pymystem3) (2.0.4)\n",
      "Requirement already satisfied: urllib3<1.27,>=1.21.1 in c:\\users\\baiko\\anaconda3\\lib\\site-packages (from requests->pymystem3) (1.26.9)\n",
      "Requirement already satisfied: certifi>=2017.4.17 in c:\\users\\baiko\\anaconda3\\lib\\site-packages (from requests->pymystem3) (2022.6.15)\n"
     ]
    }
   ],
   "source": [
    "!pip3 install pymystem3"
   ]
  },
  {
   "cell_type": "code",
   "execution_count": 4,
   "metadata": {
    "id": "df16-sRI3r69"
   },
   "outputs": [],
   "source": [
    "import string\n",
    "\n",
    "# Удалим пунктуационные знаки\n",
    "def remove_punctuation(text):\n",
    "       translator = str.maketrans('', '', string.punctuation)\n",
    "       return text.translate(translator)"
   ]
  },
  {
   "cell_type": "code",
   "execution_count": 5,
   "metadata": {
    "colab": {
     "base_uri": "https://localhost:8080/"
    },
    "id": "O5lOgnMv336l",
    "outputId": "b394d4b0-eaa3-40b3-b289-c09a15906dc9"
   },
   "outputs": [
    {
     "name": "stdout",
     "output_type": "stream",
     "text": [
      "                                       Категория жилья  Ставка\n",
      "0    Квартира в новостройке базовая программа макси...    12.2\n",
      "1    Квартира в новостройке базовая программа зарпл...    11.2\n",
      "2    Квартира в новостройке базовая программа страх...    11.2\n",
      "3    Квартира в новостройке базовая программа элект...    11.9\n",
      "4    Квартира в новостройке базовая программа зарпл...    10.2\n",
      "..                                                 ...     ...\n",
      "576  Взять наличные под залог жилья зарплатная карт...    10.5\n",
      "577  Взять наличные под залог жилья зарплатная карт...    11.2\n",
      "578  Взять наличные под залог жилья зарплатная карт...    10.2\n",
      "579  Взять наличные под залог жилья подтверждение д...    11.2\n",
      "580  Взять наличные под залог жилья страхование жиз...    11.7\n",
      "\n",
      "[581 rows x 2 columns]\n"
     ]
    }
   ],
   "source": [
    "x1 = []\n",
    "for x in tdata[tdata.columns[0]]:\n",
    "    x1.append(remove_punctuation(x))\n",
    "    \n",
    "\n",
    "tdata[tdata.columns[0]]=x1\n",
    "print(tdata)"
   ]
  },
  {
   "cell_type": "code",
   "execution_count": 6,
   "metadata": {
    "id": "GirV7h7w83D3"
   },
   "outputs": [],
   "source": [
    "from pymystem3 import Mystem"
   ]
  },
  {
   "cell_type": "code",
   "execution_count": 7,
   "metadata": {
    "colab": {
     "base_uri": "https://localhost:8080/"
    },
    "id": "Yp5aXxcF88ve",
    "outputId": "f98cc2e7-6a24-4e46-ad18-4e850a61c53a"
   },
   "outputs": [],
   "source": [
    "m = Mystem()\n",
    "\n",
    "def diction_from(text):\n",
    "  text = ''.join(m.lemmatize(text)).rstrip('\\n')\n",
    "  return text"
   ]
  },
  {
   "cell_type": "code",
   "execution_count": null,
   "metadata": {
    "id": "7fkjvAo29Pwe"
   },
   "outputs": [],
   "source": [
    "#это попытка привести все слова к начальной форме, но работает долго, поэтому использовать не стоит\n",
    "x2=[]\n",
    "\n",
    "for x in tdata[tdata.columns[0]]:\n",
    "    x2.append(diction_from(x))\n",
    "    \n",
    "tdata[tdata.columns[0]]=x2\n",
    "print(tdata)"
   ]
  },
  {
   "cell_type": "code",
   "execution_count": 8,
   "metadata": {
    "colab": {
     "base_uri": "https://localhost:8080/"
    },
    "id": "tyeXwuG8AmBn",
    "outputId": "c3bf723b-94e2-4986-a611-d2c436b591f4"
   },
   "outputs": [
    {
     "name": "stdout",
     "output_type": "stream",
     "text": [
      "0      Квартира в новостройке базовая программа макси...\n",
      "1      Квартира в новостройке базовая программа зарпл...\n",
      "2      Квартира в новостройке базовая программа страх...\n",
      "3      Квартира в новостройке базовая программа элект...\n",
      "4      Квартира в новостройке базовая программа зарпл...\n",
      "                             ...                        \n",
      "576    Взять наличные под залог жилья зарплатная карт...\n",
      "577    Взять наличные под залог жилья зарплатная карт...\n",
      "578    Взять наличные под залог жилья зарплатная карт...\n",
      "579    Взять наличные под залог жилья подтверждение д...\n",
      "580    Взять наличные под залог жилья страхование жиз...\n",
      "Name: Категория жилья, Length: 581, dtype: object\n"
     ]
    }
   ],
   "source": [
    "print(tdata[tdata.columns[0]])"
   ]
  },
  {
   "cell_type": "code",
   "execution_count": 9,
   "metadata": {
    "colab": {
     "base_uri": "https://localhost:8080/"
    },
    "id": "bE8gb9GjAl8G",
    "outputId": "9956f235-d0d4-4f20-db47-6db38f9ad2b1"
   },
   "outputs": [
    {
     "name": "stdout",
     "output_type": "stream",
     "text": [
      "Квартира в новостройке базовая программа максимальная ставка без льгот\n"
     ]
    }
   ],
   "source": [
    "print((tdata[tdata.columns[0]].tolist())[0])"
   ]
  },
  {
   "cell_type": "code",
   "execution_count": 10,
   "metadata": {},
   "outputs": [
    {
     "name": "stdout",
     "output_type": "stream",
     "text": [
      "Requirement already satisfied: sklearn in c:\\users\\baiko\\anaconda3\\lib\\site-packages (0.0)\n",
      "Requirement already satisfied: scikit-learn in c:\\users\\baiko\\anaconda3\\lib\\site-packages (from sklearn) (1.1.1)\n",
      "Requirement already satisfied: threadpoolctl>=2.0.0 in c:\\users\\baiko\\anaconda3\\lib\\site-packages (from scikit-learn->sklearn) (3.1.0)\n",
      "Requirement already satisfied: numpy>=1.17.3 in c:\\users\\baiko\\anaconda3\\lib\\site-packages (from scikit-learn->sklearn) (1.22.3)\n",
      "Requirement already satisfied: joblib>=1.0.0 in c:\\users\\baiko\\anaconda3\\lib\\site-packages (from scikit-learn->sklearn) (1.1.0)\n",
      "Requirement already satisfied: scipy>=1.3.2 in c:\\users\\baiko\\anaconda3\\lib\\site-packages (from scikit-learn->sklearn) (1.8.1)\n"
     ]
    }
   ],
   "source": [
    "!pip3 install sklearn"
   ]
  },
  {
   "cell_type": "code",
   "execution_count": 11,
   "metadata": {
    "id": "OGmZtt9K9i-m"
   },
   "outputs": [],
   "source": [
    "from sklearn.feature_extraction.text import TfidfVectorizer\n",
    "\n",
    "vectorizer = TfidfVectorizer()\n",
    "\n",
    "vector = vectorizer.fit_transform(tdata[tdata.columns[0]].tolist())\n",
    "vector = vector.toarray()"
   ]
  },
  {
   "cell_type": "code",
   "execution_count": 12,
   "metadata": {
    "colab": {
     "base_uri": "https://localhost:8080/"
    },
    "id": "5ulJzKK9Cr53",
    "outputId": "eba45173-bf62-42f4-9d11-8133af59f69a"
   },
   "outputs": [
    {
     "name": "stdout",
     "output_type": "stream",
     "text": [
      "[[0.         0.         0.26547509 ... 0.         0.         0.        ]\n",
      " [0.         0.         0.38539354 ... 0.         0.         0.        ]\n",
      " [0.         0.         0.40228805 ... 0.         0.         0.        ]\n",
      " ...\n",
      " [0.         0.         0.         ... 0.         0.         0.13928906]\n",
      " [0.         0.         0.         ... 0.         0.         0.13407433]\n",
      " [0.         0.         0.         ... 0.         0.         0.14995518]]\n"
     ]
    }
   ],
   "source": [
    "print(vector)"
   ]
  },
  {
   "cell_type": "code",
   "execution_count": 13,
   "metadata": {
    "id": "8C0D4AC895GG"
   },
   "outputs": [],
   "source": [
    "from sklearn import preprocessing\n",
    "from sklearn.model_selection import train_test_split\n",
    "\n",
    "#le = preprocessing.LabelEncoder()\n",
    "#tdata[tdata.columns[1]] = le.fit_transform(tdata[tdata.columns[1]])\n",
    "y = tdata[tdata.columns[1]]*10\n",
    "X = vector\n",
    "\n",
    "X_train, X_test, y_train, y_test = train_test_split(X, y, test_size=0.2, shuffle=True, random_state=42)"
   ]
  },
  {
   "cell_type": "code",
   "execution_count": 14,
   "metadata": {
    "colab": {
     "base_uri": "https://localhost:8080/"
    },
    "id": "eRGJZQTcRf3j",
    "outputId": "94ba114a-d465-4906-d277-cc8c56fddde7"
   },
   "outputs": [
    {
     "data": {
      "text/plain": [
       "array([12.2, 11.2, 11.9, 10.2, 10.9,  9.9,  5. ,  4.7,  8. ,  7. ,  7.7,\n",
       "        6.7,  6. ,  5.7,  3. ,  2. ,  2.7,  1.7,  9.3, 13. , 11.5, 12.5,\n",
       "       12. , 12.7, 11.7, 10.5, 10.4, 11. , 10. ,  9.7,  8.9,  8.4, 10.7,\n",
       "       11.4,  9.4, 12.4,  7.3,  6.3,  5.3,  1.5,  2.5, 13.6, 11.8, 12.8,\n",
       "       13.3, 12.6, 10.8, 11.1, 10.1, 13.2, 12.9])"
      ]
     },
     "execution_count": 14,
     "metadata": {},
     "output_type": "execute_result"
    }
   ],
   "source": [
    "tdata[tdata.columns[1]].unique()"
   ]
  },
  {
   "cell_type": "code",
   "execution_count": 15,
   "metadata": {
    "colab": {
     "base_uri": "https://localhost:8080/"
    },
    "id": "xnedd6ln-AFW",
    "outputId": "e5af2b37-295a-4a7e-fced-9de5cbba1bab"
   },
   "outputs": [
    {
     "name": "stdout",
     "output_type": "stream",
     "text": [
      "12.2\n",
      "Квартира в новостройке базовая программа максимальная ставка без льгот\n"
     ]
    }
   ],
   "source": [
    "from sklearn.svm import LinearSVC\n",
    "\n",
    "# Классификация\n",
    "clf = LinearSVC(max_iter=100, tol=1e-6)\n",
    "clf.fit(X_train, y_train)\n",
    "print(clf.predict(vector)[0]/10)\n",
    "#print(vector[0])\n",
    "print((tdata[tdata.columns[0]].tolist())[0])"
   ]
  },
  {
   "cell_type": "code",
   "execution_count": 16,
   "metadata": {
    "colab": {
     "base_uri": "https://localhost:8080/"
    },
    "id": "Zg_QhdIjTwSy",
    "outputId": "47f828a1-f993-4963-e05c-79b894eb238a"
   },
   "outputs": [
    {
     "name": "stdout",
     "output_type": "stream",
     "text": [
      "3.0%\n"
     ]
    }
   ],
   "source": [
    "str1 = ['ставка на квартиру новостройке максимальная']\n",
    "#vectorizer = TfidfVectorizer()\n",
    "vector1 = vectorizer.transform(str1)\n",
    "#print(vector1)\n",
    "str2 = str(int(clf.predict(vector1))/10)+str('%')\n",
    "print(str2)"
   ]
  },
  {
   "cell_type": "code",
   "execution_count": 17,
   "metadata": {
    "colab": {
     "base_uri": "https://localhost:8080/"
    },
    "id": "sQtu7LLOMFcQ",
    "outputId": "91dd15e8-48f3-4714-d59f-6696b82cd2d2"
   },
   "outputs": [
    {
     "name": "stdout",
     "output_type": "stream",
     "text": [
      "Score:  0.8103448275862069\n"
     ]
    }
   ],
   "source": [
    "score = clf.score(X_train, y_train)\n",
    "print(\"Score: \", score)"
   ]
  },
  {
   "cell_type": "code",
   "execution_count": 18,
   "metadata": {
    "colab": {
     "base_uri": "https://localhost:8080/"
    },
    "id": "T-r-anAEl1BV",
    "outputId": "308d43f5-9f20-4deb-c351-825c9fada86e"
   },
   "outputs": [
    {
     "name": "stdout",
     "output_type": "stream",
     "text": [
      "Requirement already satisfied: flask-ngrok in c:\\users\\baiko\\anaconda3\\lib\\site-packages (0.0.25)\n",
      "Requirement already satisfied: requests in c:\\users\\baiko\\anaconda3\\lib\\site-packages (from flask-ngrok) (2.28.1)\n",
      "Requirement already satisfied: Flask>=0.8 in c:\\users\\baiko\\anaconda3\\lib\\site-packages (from flask-ngrok) (2.1.3)\n",
      "Requirement already satisfied: Jinja2>=3.0 in c:\\users\\baiko\\anaconda3\\lib\\site-packages (from Flask>=0.8->flask-ngrok) (3.1.2)\n",
      "Requirement already satisfied: click>=8.0 in c:\\users\\baiko\\anaconda3\\lib\\site-packages (from Flask>=0.8->flask-ngrok) (8.0.4)\n",
      "Requirement already satisfied: itsdangerous>=2.0 in c:\\users\\baiko\\anaconda3\\lib\\site-packages (from Flask>=0.8->flask-ngrok) (2.1.2)\n",
      "Requirement already satisfied: Werkzeug>=2.0 in c:\\users\\baiko\\anaconda3\\lib\\site-packages (from Flask>=0.8->flask-ngrok) (2.2.0)\n",
      "Requirement already satisfied: importlib-metadata>=3.6.0 in c:\\users\\baiko\\anaconda3\\lib\\site-packages (from Flask>=0.8->flask-ngrok) (4.11.3)\n",
      "Requirement already satisfied: idna<4,>=2.5 in c:\\users\\baiko\\anaconda3\\lib\\site-packages (from requests->flask-ngrok) (3.3)\n",
      "Requirement already satisfied: certifi>=2017.4.17 in c:\\users\\baiko\\anaconda3\\lib\\site-packages (from requests->flask-ngrok) (2022.6.15)\n",
      "Requirement already satisfied: urllib3<1.27,>=1.21.1 in c:\\users\\baiko\\anaconda3\\lib\\site-packages (from requests->flask-ngrok) (1.26.9)\n",
      "Requirement already satisfied: charset-normalizer<3,>=2 in c:\\users\\baiko\\anaconda3\\lib\\site-packages (from requests->flask-ngrok) (2.0.4)\n",
      "Requirement already satisfied: colorama in c:\\users\\baiko\\anaconda3\\lib\\site-packages (from click>=8.0->Flask>=0.8->flask-ngrok) (0.4.5)\n",
      "Requirement already satisfied: zipp>=0.5 in c:\\users\\baiko\\anaconda3\\lib\\site-packages (from importlib-metadata>=3.6.0->Flask>=0.8->flask-ngrok) (3.8.0)\n",
      "Requirement already satisfied: MarkupSafe>=2.0 in c:\\users\\baiko\\anaconda3\\lib\\site-packages (from Jinja2>=3.0->Flask>=0.8->flask-ngrok) (2.1.1)\n",
      "Requirement already satisfied: pyngrok==4.1.1 in c:\\users\\baiko\\anaconda3\\lib\\site-packages (4.1.1)\n",
      "Requirement already satisfied: PyYAML in c:\\users\\baiko\\anaconda3\\lib\\site-packages (from pyngrok==4.1.1) (6.0)\n",
      "Requirement already satisfied: future in c:\\users\\baiko\\anaconda3\\lib\\site-packages (from pyngrok==4.1.1) (0.18.2)\n"
     ]
    }
   ],
   "source": [
    "!pip3 install flask-ngrok\n",
    "!pip install pyngrok==4.1.1"
   ]
  },
  {
   "cell_type": "code",
   "execution_count": 19,
   "metadata": {
    "id": "x30I2s03fIf8"
   },
   "outputs": [],
   "source": [
    "from flask import Flask\n",
    "from flask import request\n",
    "from flask import Response\n",
    "from flask_ngrok import run_with_ngrok\n",
    "import requests\n",
    " \n",
    "TOKEN = \"5173479779:AAEBvJDjL7g_QoGiOPz-bx2zVCFkbbqip_w\"\n",
    "app = Flask(__name__)\n",
    "run_with_ngrok(app)"
   ]
  },
  {
   "cell_type": "code",
   "execution_count": 20,
   "metadata": {
    "id": "KyvG180MfP8E"
   },
   "outputs": [],
   "source": [
    "def parse_message(message):\n",
    "    print(\"message-->\",message)\n",
    "    chat_id = message['message']['chat']['id']\n",
    "    txt = message['message']['text']\n",
    "    print(\"chat_id-->\", chat_id)\n",
    "    print(\"txt-->\", txt)\n",
    "    return chat_id,txt"
   ]
  },
  {
   "cell_type": "code",
   "execution_count": 21,
   "metadata": {
    "id": "d8VtqLs8fNdM"
   },
   "outputs": [],
   "source": [
    "def tel_send_message(chat_id, text):\n",
    "    url = f'https://api.telegram.org/bot5173479779:AAEBvJDjL7g_QoGiOPz-bx2zVCFkbbqip_w/sendMessage'\n",
    "    payload = {\n",
    "                'chat_id': chat_id,\n",
    "                'text': text\n",
    "                }\n",
    "   \n",
    "    r = requests.post(url,json=payload)\n",
    "    return r"
   ]
  },
  {
   "cell_type": "code",
   "execution_count": 22,
   "metadata": {
    "id": "fUB0voirfmFF"
   },
   "outputs": [],
   "source": [
    "@app.route('/', methods=['GET', 'POST'])\n",
    "def index():\n",
    "    if request.method == 'POST':\n",
    "        msg = request.get_json()\n",
    "       \n",
    "        chat_id,txt = parse_message(msg)\n",
    "        if txt == \"/start\":\n",
    "            tel_send_message(chat_id,'Привет! Я помогу узнать ставку по интересующему тебя варианту ипотеки от Сбера. Опиши тот вариант ипотеки, который тебя интересует')\n",
    "        else:\n",
    "            str1 = [txt]\n",
    "            vector1 = vectorizer.transform(str1)\n",
    "            str2 = str(int(clf.predict(vector1))/10)+str('%')\n",
    "            tel_send_message(chat_id, str2)\n",
    "       \n",
    "        return Response('ok', status=200)\n",
    "    else:\n",
    "        return \"<h1>Welcome!</h1>\"\n"
   ]
  },
  {
   "cell_type": "code",
   "execution_count": 23,
   "metadata": {
    "colab": {
     "base_uri": "https://localhost:8080/"
    },
    "id": "xMU_RXrloIam",
    "outputId": "2d51e297-1504-4715-f3ab-9ab1430ad50f"
   },
   "outputs": [
    {
     "name": "stdout",
     "output_type": "stream",
     "text": [
      " * Serving Flask app '__main__' (lazy loading)\n",
      " * Environment: production\n",
      "\u001b[31m   WARNING: This is a development server. Do not use it in a production deployment.\u001b[0m\n",
      "\u001b[2m   Use a production WSGI server instead.\u001b[0m\n",
      " * Debug mode: off\n"
     ]
    },
    {
     "name": "stderr",
     "output_type": "stream",
     "text": [
      " * Running on http://127.0.0.1:5000 (Press CTRL+C to quit)\n"
     ]
    },
    {
     "name": "stdout",
     "output_type": "stream",
     "text": [
      " * Running on http://0ca5-82-140-206-126.eu.ngrok.io\n",
      " * Traffic stats available on http://127.0.0.1:4040\n"
     ]
    },
    {
     "name": "stderr",
     "output_type": "stream",
     "text": [
      "127.0.0.1 - - [27/Jul/2022 07:43:01] \"GET / HTTP/1.1\" 200 -\n",
      "127.0.0.1 - - [27/Jul/2022 07:43:23] \"GET / HTTP/1.1\" 200 -\n"
     ]
    }
   ],
   "source": [
    "app.run()"
   ]
  },
  {
   "cell_type": "code",
   "execution_count": null,
   "metadata": {},
   "outputs": [],
   "source": []
  }
 ],
 "metadata": {
  "colab": {
   "name": "Untitled16.ipynb",
   "provenance": []
  },
  "gpuClass": "standard",
  "kernelspec": {
   "display_name": "Python 3 (ipykernel)",
   "language": "python",
   "name": "python3"
  },
  "language_info": {
   "codemirror_mode": {
    "name": "ipython",
    "version": 3
   },
   "file_extension": ".py",
   "mimetype": "text/x-python",
   "name": "python",
   "nbconvert_exporter": "python",
   "pygments_lexer": "ipython3",
   "version": "3.9.12"
  }
 },
 "nbformat": 4,
 "nbformat_minor": 1
}
